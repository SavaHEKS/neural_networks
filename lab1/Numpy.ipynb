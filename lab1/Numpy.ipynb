{
 "cells": [
  {
   "cell_type": "code",
   "execution_count": 1,
   "id": "377b741a",
   "metadata": {
    "scrolled": false
   },
   "outputs": [
    {
     "name": "stdout",
     "output_type": "stream",
     "text": [
      "Завдання 1. NumPy\n",
      "\n",
      "Набір даних, функція arrange:\n",
      "[1 2 3 4 5 6 7 8 9]\n",
      "Набір даних, функція random:\n",
      "[[9 3 4]\n",
      " [8 9 7]\n",
      " [1 7 9]]\n",
      "Зчитування з файлу: [1 2 3 4 5 6 7 8 9]\n",
      "\n",
      "Операції:скаляр, вектор, матриця\n",
      "\n",
      "Множення матриці на скаляр: \n",
      "[[27  9 12]\n",
      " [24 27 21]\n",
      " [ 3 21 27]]\n",
      "Транспонування матриці: \n",
      "[[9 8 1]\n",
      " [3 9 7]\n",
      " [4 7 9]]\n",
      "Сума двох векторів:\n",
      "[50 70 90]\n",
      "Добуток векторів: \n",
      "3200\n",
      "Початковий вектор:\n",
      "[1 2 3 4 5 6 7 8 9]\n",
      "Видалення елементів:\n",
      "[1 4 5 6 7 8 9]\n"
     ]
    }
   ],
   "source": [
    "import numpy as np\n",
    "data_set1 = np.arange(1,10)\n",
    "data_set2 = np.random.randint(10, size = (3,3))\n",
    "print(\"Завдання 1. NumPy\")\n",
    "print()\n",
    "print(\"Набір даних, функція arrange:\")\n",
    "print(data_set1)\n",
    "print(\"Набір даних, функція random:\")\n",
    "print(data_set2)\n",
    "arr = np.save('data_set1.npy',data_set1)\n",
    "output = np.load('data_set1.npy')\n",
    "print(\"Зчитування з файлу:\", output)\n",
    "print()\n",
    "print(\"Операції:скаляр, вектор, матриця\")\n",
    "print()\n",
    "print (\"Множення матриці на скаляр: \")\n",
    "print (3*data_set2)\n",
    "print (\"Транспонування матриці: \")\n",
    "print (np.transpose(data_set2))\n",
    "numpy_array_1 = np.array([40, 50, 60])\n",
    "numpy_array_2 = np.array([10, 20, 30])\n",
    "print (\"Сума двох векторів:\")\n",
    "print (np.add(numpy_array_1,numpy_array_2))\n",
    "print (\"Добуток векторів: \")\n",
    "print (np.dot(numpy_array_1,numpy_array_2))\n",
    "vector = np.arange(1,11)\n",
    "print(\"Початковий вектор:\")\n",
    "print(data_set1)\n",
    "vector_new = np.delete(data_set1,[1,2])\n",
    "print(\"Видалення елементів:\")\n",
    "print(vector_new)"
   ]
  },
  {
   "cell_type": "markdown",
   "id": "36566638",
   "metadata": {},
   "source": [
    "### CRUD operations:\n",
    "#### -Create\n",
    "#### -Read\n",
    "#### -Update\n",
    "#### -Delete"
   ]
  },
  {
   "cell_type": "markdown",
   "id": "0305b758",
   "metadata": {},
   "source": [
    "## Create\n"
   ]
  },
  {
   "cell_type": "code",
   "execution_count": 2,
   "id": "4ce4cb2f",
   "metadata": {},
   "outputs": [],
   "source": [
    "import numpy as np \n",
    "matrix = np.arange(0, 25, 3).reshape((3, 3))\n",
    "vector = np.random.randint(0, 25, size = 9)\n",
    "scalar = np.random.randint(0, 25)\n"
   ]
  },
  {
   "cell_type": "markdown",
   "id": "cce146cc",
   "metadata": {},
   "source": [
    "## Read"
   ]
  },
  {
   "cell_type": "code",
   "execution_count": 3,
   "id": "6f6d7320",
   "metadata": {},
   "outputs": [
    {
     "name": "stdout",
     "output_type": "stream",
     "text": [
      "Матриця\n",
      "[[ 0  3  6]\n",
      " [ 9 12 15]\n",
      " [18 21 24]]\n",
      "Вектор\n",
      "[12  9 24  7  9 22  2 22 11]\n",
      "Скаляр\n",
      "10\n"
     ]
    }
   ],
   "source": [
    "print(\"Матриця\")\n",
    "print(matrix)\n",
    "print(\"Вектор\")\n",
    "print(vector)\n",
    "print(\"Скаляр\")\n",
    "print(scalar)"
   ]
  },
  {
   "cell_type": "markdown",
   "id": "5f279516",
   "metadata": {},
   "source": [
    "## Update"
   ]
  },
  {
   "cell_type": "code",
   "execution_count": 5,
   "id": "36d16ba1",
   "metadata": {},
   "outputs": [
    {
     "name": "stdout",
     "output_type": "stream",
     "text": [
      "Transpose matrix:\n",
      "[[ 0  9 18]\n",
      " [ 3 12 21]\n",
      " [ 6 15 24]]\n",
      "Vector plus 5:\n",
      "[17 14 29 12 14 27  7 27 16]\n",
      "Scalar devided by 3:\n",
      "3.3333333333333335\n"
     ]
    }
   ],
   "source": [
    "print(\"Transpose matrix:\")\n",
    "print(matrix.transpose())\n",
    "print(\"Vector plus 5:\")\n",
    "print(vector + 5)\n",
    "print(\"Scalar devided by 3:\")\n",
    "print(scalar / 3)"
   ]
  },
  {
   "cell_type": "markdown",
   "id": "5e4203a0",
   "metadata": {},
   "source": [
    "## Delete\n"
   ]
  },
  {
   "cell_type": "code",
   "execution_count": 9,
   "id": "00be0bd6",
   "metadata": {},
   "outputs": [
    {
     "ename": "NameError",
     "evalue": "name 'matrix' is not defined",
     "output_type": "error",
     "traceback": [
      "\u001b[1;31m---------------------------------------------------------------------------\u001b[0m",
      "\u001b[1;31mNameError\u001b[0m                                 Traceback (most recent call last)",
      "\u001b[1;32m<ipython-input-9-849ced097215>\u001b[0m in \u001b[0;36m<module>\u001b[1;34m\u001b[0m\n\u001b[1;32m----> 1\u001b[1;33m \u001b[1;32mdel\u001b[0m \u001b[0mmatrix\u001b[0m\u001b[1;33m\u001b[0m\u001b[1;33m\u001b[0m\u001b[0m\n\u001b[0m\u001b[0;32m      2\u001b[0m \u001b[0mmatrix\u001b[0m\u001b[1;33m\u001b[0m\u001b[1;33m\u001b[0m\u001b[0m\n",
      "\u001b[1;31mNameError\u001b[0m: name 'matrix' is not defined"
     ]
    }
   ],
   "source": [
    "del matrix\n",
    "matrix"
   ]
  },
  {
   "cell_type": "code",
   "execution_count": 10,
   "id": "3860984d",
   "metadata": {},
   "outputs": [
    {
     "ename": "NameError",
     "evalue": "name 'vecrot' is not defined",
     "output_type": "error",
     "traceback": [
      "\u001b[1;31m---------------------------------------------------------------------------\u001b[0m",
      "\u001b[1;31mNameError\u001b[0m                                 Traceback (most recent call last)",
      "\u001b[1;32m<ipython-input-10-19c78097832f>\u001b[0m in \u001b[0;36m<module>\u001b[1;34m\u001b[0m\n\u001b[1;32m----> 1\u001b[1;33m \u001b[1;32mdel\u001b[0m \u001b[0mvecrot\u001b[0m\u001b[1;33m\u001b[0m\u001b[1;33m\u001b[0m\u001b[0m\n\u001b[0m\u001b[0;32m      2\u001b[0m \u001b[0mvector\u001b[0m\u001b[1;33m\u001b[0m\u001b[1;33m\u001b[0m\u001b[0m\n",
      "\u001b[1;31mNameError\u001b[0m: name 'vecrot' is not defined"
     ]
    }
   ],
   "source": [
    "del vecrot\n",
    "vector"
   ]
  },
  {
   "cell_type": "code",
   "execution_count": 11,
   "id": "6cc6317e",
   "metadata": {},
   "outputs": [
    {
     "ename": "NameError",
     "evalue": "name 'scalar' is not defined",
     "output_type": "error",
     "traceback": [
      "\u001b[1;31m---------------------------------------------------------------------------\u001b[0m",
      "\u001b[1;31mNameError\u001b[0m                                 Traceback (most recent call last)",
      "\u001b[1;32m<ipython-input-11-7ed748d96777>\u001b[0m in \u001b[0;36m<module>\u001b[1;34m\u001b[0m\n\u001b[1;32m----> 1\u001b[1;33m \u001b[1;32mdel\u001b[0m \u001b[0mscalar\u001b[0m\u001b[1;33m\u001b[0m\u001b[1;33m\u001b[0m\u001b[0m\n\u001b[0m\u001b[0;32m      2\u001b[0m \u001b[0mscalar\u001b[0m\u001b[1;33m\u001b[0m\u001b[1;33m\u001b[0m\u001b[0m\n",
      "\u001b[1;31mNameError\u001b[0m: name 'scalar' is not defined"
     ]
    }
   ],
   "source": [
    "del scalar\n",
    "scalar"
   ]
  },
  {
   "cell_type": "code",
   "execution_count": null,
   "id": "facee06b",
   "metadata": {},
   "outputs": [],
   "source": []
  }
 ],
 "metadata": {
  "kernelspec": {
   "display_name": "Python 3",
   "language": "python",
   "name": "python3"
  },
  "language_info": {
   "codemirror_mode": {
    "name": "ipython",
    "version": 3
   },
   "file_extension": ".py",
   "mimetype": "text/x-python",
   "name": "python",
   "nbconvert_exporter": "python",
   "pygments_lexer": "ipython3",
   "version": "3.8.8"
  }
 },
 "nbformat": 4,
 "nbformat_minor": 5
}
