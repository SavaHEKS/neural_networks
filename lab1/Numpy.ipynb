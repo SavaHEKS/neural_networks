{
 "cells": [
  {
   "cell_type": "markdown",
   "id": "36566638",
   "metadata": {},
   "source": [
    "### CRUD operations:\n",
    "#### -Create\n",
    "#### -Read\n",
    "#### -Update\n",
    "#### -Delete"
   ]
  },
  {
   "cell_type": "markdown",
   "id": "0305b758",
   "metadata": {},
   "source": [
    "## Create\n"
   ]
  },
  {
   "cell_type": "code",
   "execution_count": 2,
   "id": "4ce4cb2f",
   "metadata": {},
   "outputs": [],
   "source": [
    "import numpy as np \n",
    "matrix = np.arange(0, 25, 3).reshape((3, 3))\n",
    "vector = np.random.randint(0, 25, size = 9)\n",
    "scalar = np.random.randint(0, 25)\n"
   ]
  },
  {
   "cell_type": "markdown",
   "id": "cce146cc",
   "metadata": {},
   "source": [
    "## Read"
   ]
  },
  {
   "cell_type": "code",
   "execution_count": 3,
   "id": "6f6d7320",
   "metadata": {},
   "outputs": [
    {
     "name": "stdout",
     "output_type": "stream",
     "text": [
      "Матриця\n",
      "[[ 0  3  6]\n",
      " [ 9 12 15]\n",
      " [18 21 24]]\n",
      "Вектор\n",
      "[12  9 24  7  9 22  2 22 11]\n",
      "Скаляр\n",
      "10\n"
     ]
    }
   ],
   "source": [
    "print(\"Матриця\")\n",
    "print(matrix)\n",
    "print(\"Вектор\")\n",
    "print(vector)\n",
    "print(\"Скаляр\")\n",
    "print(scalar)"
   ]
  },
  {
   "cell_type": "markdown",
   "id": "5f279516",
   "metadata": {},
   "source": [
    "## Update"
   ]
  },
  {
   "cell_type": "code",
   "execution_count": 5,
   "id": "36d16ba1",
   "metadata": {},
   "outputs": [
    {
     "name": "stdout",
     "output_type": "stream",
     "text": [
      "Transpose matrix:\n",
      "[[ 0  9 18]\n",
      " [ 3 12 21]\n",
      " [ 6 15 24]]\n",
      "Vector plus 5:\n",
      "[17 14 29 12 14 27  7 27 16]\n",
      "Scalar devided by 3:\n",
      "3.3333333333333335\n"
     ]
    }
   ],
   "source": [
    "print(\"Transpose matrix:\")\n",
    "print(matrix.transpose())\n",
    "print(\"Vector plus 5:\")\n",
    "print(vector + 5)\n",
    "print(\"Scalar devided by 3:\")\n",
    "print(scalar / 3)"
   ]
  },
  {
   "cell_type": "markdown",
   "id": "5e4203a0",
   "metadata": {},
   "source": [
    "## Delete\n"
   ]
  },
  {
   "cell_type": "code",
   "execution_count": 9,
   "id": "00be0bd6",
   "metadata": {},
   "outputs": [
    {
     "ename": "NameError",
     "evalue": "name 'matrix' is not defined",
     "output_type": "error",
     "traceback": [
      "\u001b[1;31m---------------------------------------------------------------------------\u001b[0m",
      "\u001b[1;31mNameError\u001b[0m                                 Traceback (most recent call last)",
      "\u001b[1;32m<ipython-input-9-849ced097215>\u001b[0m in \u001b[0;36m<module>\u001b[1;34m\u001b[0m\n\u001b[1;32m----> 1\u001b[1;33m \u001b[1;32mdel\u001b[0m \u001b[0mmatrix\u001b[0m\u001b[1;33m\u001b[0m\u001b[1;33m\u001b[0m\u001b[0m\n\u001b[0m\u001b[0;32m      2\u001b[0m \u001b[0mmatrix\u001b[0m\u001b[1;33m\u001b[0m\u001b[1;33m\u001b[0m\u001b[0m\n",
      "\u001b[1;31mNameError\u001b[0m: name 'matrix' is not defined"
     ]
    }
   ],
   "source": [
    "del matrix\n",
    "matrix"
   ]
  },
  {
   "cell_type": "code",
   "execution_count": 10,
   "id": "3860984d",
   "metadata": {},
   "outputs": [
    {
     "ename": "NameError",
     "evalue": "name 'vecrot' is not defined",
     "output_type": "error",
     "traceback": [
      "\u001b[1;31m---------------------------------------------------------------------------\u001b[0m",
      "\u001b[1;31mNameError\u001b[0m                                 Traceback (most recent call last)",
      "\u001b[1;32m<ipython-input-10-19c78097832f>\u001b[0m in \u001b[0;36m<module>\u001b[1;34m\u001b[0m\n\u001b[1;32m----> 1\u001b[1;33m \u001b[1;32mdel\u001b[0m \u001b[0mvecrot\u001b[0m\u001b[1;33m\u001b[0m\u001b[1;33m\u001b[0m\u001b[0m\n\u001b[0m\u001b[0;32m      2\u001b[0m \u001b[0mvector\u001b[0m\u001b[1;33m\u001b[0m\u001b[1;33m\u001b[0m\u001b[0m\n",
      "\u001b[1;31mNameError\u001b[0m: name 'vecrot' is not defined"
     ]
    }
   ],
   "source": [
    "del vecrot\n",
    "vector"
   ]
  },
  {
   "cell_type": "code",
   "execution_count": 11,
   "id": "6cc6317e",
   "metadata": {},
   "outputs": [
    {
     "ename": "NameError",
     "evalue": "name 'scalar' is not defined",
     "output_type": "error",
     "traceback": [
      "\u001b[1;31m---------------------------------------------------------------------------\u001b[0m",
      "\u001b[1;31mNameError\u001b[0m                                 Traceback (most recent call last)",
      "\u001b[1;32m<ipython-input-11-7ed748d96777>\u001b[0m in \u001b[0;36m<module>\u001b[1;34m\u001b[0m\n\u001b[1;32m----> 1\u001b[1;33m \u001b[1;32mdel\u001b[0m \u001b[0mscalar\u001b[0m\u001b[1;33m\u001b[0m\u001b[1;33m\u001b[0m\u001b[0m\n\u001b[0m\u001b[0;32m      2\u001b[0m \u001b[0mscalar\u001b[0m\u001b[1;33m\u001b[0m\u001b[1;33m\u001b[0m\u001b[0m\n",
      "\u001b[1;31mNameError\u001b[0m: name 'scalar' is not defined"
     ]
    }
   ],
   "source": [
    "del scalar\n",
    "scalar"
   ]
  },
  {
   "cell_type": "code",
   "execution_count": null,
   "id": "facee06b",
   "metadata": {},
   "outputs": [],
   "source": []
  }
 ],
 "metadata": {
  "kernelspec": {
   "display_name": "Python 3",
   "language": "python",
   "name": "python3"
  },
  "language_info": {
   "codemirror_mode": {
    "name": "ipython",
    "version": 3
   },
   "file_extension": ".py",
   "mimetype": "text/x-python",
   "name": "python",
   "nbconvert_exporter": "python",
   "pygments_lexer": "ipython3",
   "version": "3.8.8"
  }
 },
 "nbformat": 4,
 "nbformat_minor": 5
}
