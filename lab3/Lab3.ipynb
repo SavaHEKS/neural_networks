{
 "cells": [
  {
   "cell_type": "code",
   "execution_count": 24,
   "metadata": {},
   "outputs": [
    {
     "name": "stdout",
     "output_type": "stream",
     "text": [
      "2.7.0\n"
     ]
    }
   ],
   "source": [
    "import tensorflow as tf\n",
    "from tensorflow.keras.datasets import fashion_mnist\n",
    "print ( tf . __version__ )"
   ]
  },
  {
   "cell_type": "code",
   "execution_count": 25,
   "metadata": {},
   "outputs": [],
   "source": [
    "(train_data, train_labels), (test_data, test_labels) = fashion_mnist.load_data()"
   ]
  },
  {
   "cell_type": "code",
   "execution_count": 26,
   "metadata": {},
   "outputs": [
    {
     "data": {
      "text/plain": [
       "((60000, 28, 28), (60000,), (10000, 28, 28), (10000,))"
      ]
     },
     "execution_count": 26,
     "metadata": {},
     "output_type": "execute_result"
    }
   ],
   "source": [
    "train_data.shape, train_labels.shape, test_data.shape, test_labels.shape"
   ]
  },
  {
   "cell_type": "code",
   "execution_count": 27,
   "metadata": {},
   "outputs": [
    {
     "data": {
      "image/png": "[encoded data removed]",
      "text/plain": [
       "<Figure size 432x288 with 1 Axes>"
      ]
     },
     "metadata": {
      "needs_background": "light"
     },
     "output_type": "display_data"
    }
   ],
   "source": [
    "import matplotlib.pyplot as plt\n",
    "plt.imshow(train_data[6]);"
   ]
  },
  {
   "cell_type": "code",
   "execution_count": 28,
   "metadata": {},
   "outputs": [
    {
     "data": {
      "text/plain": [
       "7"
      ]
     },
     "execution_count": 28,
     "metadata": {},
     "output_type": "execute_result"
    }
   ],
   "source": [
    "train_labels[6]"
   ]
  },
  {
   "cell_type": "code",
   "execution_count": 29,
   "metadata": {},
   "outputs": [
    {
     "data": {
      "text/plain": [
       "10"
      ]
     },
     "execution_count": 29,
     "metadata": {},
     "output_type": "execute_result"
    }
   ],
   "source": [
    "class_names = ['T-shirt/top', 'Trouser', 'Pullover', 'Dress', 'Coat', \n",
    "               'Sandal', 'Shirt', 'Sneaker', 'Bag', 'Ankle boot']\n",
    "len(class_names)"
   ]
  },
  {
   "cell_type": "code",
   "execution_count": 30,
   "metadata": {},
   "outputs": [
    {
     "data": {
      "image/png": "[encoded data removed]",
      "text/plain": [
       "<Figure size 432x288 with 1 Axes>"
      ]
     },
     "metadata": {
      "needs_background": "light"
     },
     "output_type": "display_data"
    }
   ],
   "source": [
    "plt.imshow(train_data[6], cmap=plt.cm.binary) # change the colours to black & white\n",
    "plt.title(class_names[train_labels[6]]);"
   ]
  },
  {
   "cell_type": "code",
   "execution_count": 31,
   "metadata": {},
   "outputs": [
    {
     "data": {
      "image/png": "[encoded data removed]",
      "text/plain": [
       "<Figure size 504x504 with 6 Axes>"
      ]
     },
     "metadata": {
      "needs_background": "light"
     },
     "output_type": "display_data"
    }
   ],
   "source": [
    "# Plot multiple random images of fashion MNIST\n",
    "import random\n",
    "plt.figure(figsize=(7, 7))\n",
    "for i in range(6):\n",
    "  ax = plt.subplot(2, 3, i + 1)\n",
    "  rand_index = random.choice(range(len(train_data)))\n",
    "  plt.imshow(train_data[rand_index], cmap=plt.cm.binary)\n",
    "  plt.title(class_names[train_labels[rand_index]])\n",
    "  plt.axis(False)"
   ]
  },
  {
   "cell_type": "code",
   "execution_count": 32,
   "metadata": {},
   "outputs": [],
   "source": [
    "var_classes = [4,7,1]\n",
    "var_names = {4:'Coat', 7:'Sneaker', 1:'Trouser'}"
   ]
  },
  {
   "cell_type": "code",
   "execution_count": 34,
   "metadata": {},
   "outputs": [
    {
     "data": {
      "text/plain": [
       "((18000, 28, 28), (18000,), (3000, 28, 28), (3000,))"
      ]
     },
     "execution_count": 34,
     "metadata": {},
     "output_type": "execute_result"
    }
   ],
   "source": [
    "import numpy as np\n",
    "X_train = train_data[np.where(np.in1d(train_labels, var_classes))]\n",
    "y_train = train_labels[np.where(np.in1d(train_labels, var_classes))]\n",
    "X_test = test_data[np.where(np.in1d(test_labels, var_classes))]\n",
    "y_test = test_labels[np.where(np.in1d(test_labels, var_classes))]\n",
    "X_train.shape, y_train.shape, X_test.shape, y_test.shape"
   ]
  },
  {
   "cell_type": "code",
   "execution_count": 35,
   "metadata": {},
   "outputs": [
    {
     "name": "stdout",
     "output_type": "stream",
     "text": [
      "Epoch 1/10\n",
      "563/563 [==============================] - 1s 2ms/step - loss: 2.4564 - accuracy: 0.3297 - val_loss: 1.4827 - val_accuracy: 0.3333\n",
      "Epoch 2/10\n",
      "563/563 [==============================] - 1s 2ms/step - loss: 1.3023 - accuracy: 0.3333 - val_loss: 1.1968 - val_accuracy: 0.3333\n",
      "Epoch 3/10\n",
      "563/563 [==============================] - 1s 2ms/step - loss: 1.1610 - accuracy: 0.3324 - val_loss: 1.1376 - val_accuracy: 0.3333\n",
      "Epoch 4/10\n",
      "563/563 [==============================] - 1s 1ms/step - loss: 1.1270 - accuracy: 0.3330 - val_loss: 1.1189 - val_accuracy: 0.3333\n",
      "Epoch 5/10\n",
      "563/563 [==============================] - 1s 1ms/step - loss: 1.1145 - accuracy: 0.3370 - val_loss: 1.1112 - val_accuracy: 0.3333\n",
      "Epoch 6/10\n",
      "563/563 [==============================] - 1s 1ms/step - loss: 1.1087 - accuracy: 0.3309 - val_loss: 1.1065 - val_accuracy: 0.3333\n",
      "Epoch 7/10\n",
      "563/563 [==============================] - 1s 2ms/step - loss: 1.1053 - accuracy: 0.3358 - val_loss: 1.1040 - val_accuracy: 0.3333\n",
      "Epoch 8/10\n",
      "563/563 [==============================] - 1s 2ms/step - loss: 1.1034 - accuracy: 0.3276 - val_loss: 1.1028 - val_accuracy: 0.3333\n",
      "Epoch 9/10\n",
      "563/563 [==============================] - 1s 1ms/step - loss: 1.1021 - accuracy: 0.3321 - val_loss: 1.1017 - val_accuracy: 0.3333\n",
      "Epoch 10/10\n",
      "563/563 [==============================] - 1s 2ms/step - loss: 1.1013 - accuracy: 0.3287 - val_loss: 1.1007 - val_accuracy: 0.3333\n"
     ]
    }
   ],
   "source": [
    "# Set random seed\n",
    "tf.random.set_seed(42)\n",
    "\n",
    "# Create the model\n",
    "model_11 = tf.keras.Sequential([\n",
    "  tf.keras.layers.Flatten(input_shape=(28, 28)), # input layer (we had to reshape 28x28 to 784, the Flatten layer does this for us)\n",
    "  tf.keras.layers.Dense(4, activation=\"relu\"),\n",
    "  tf.keras.layers.Dense(4, activation=\"relu\"),\n",
    "  tf.keras.layers.Dense(10, activation=\"softmax\") # output shape is 10, activation is softmax\n",
    "])\n",
    "\n",
    "# Compile the model\n",
    "model_11.compile(loss=tf.keras.losses.SparseCategoricalCrossentropy(), # different loss function for multiclass classifcation\n",
    "                 optimizer=tf.keras.optimizers.Adam(),\n",
    "                 metrics=[\"accuracy\"])\n",
    "\n",
    "# Fit the model\n",
    "non_norm_history = model_11.fit(X_train,\n",
    "                                y_train,\n",
    "                                epochs=10,\n",
    "                                validation_data=(X_test, y_test))"
   ]
  },
  {
   "cell_type": "code",
   "execution_count": 36,
   "metadata": {},
   "outputs": [
    {
     "name": "stdout",
     "output_type": "stream",
     "text": [
      "Model: \"sequential_4\"\n",
      "_________________________________________________________________\n",
      " Layer (type)                Output Shape              Param #   \n",
      "=================================================================\n",
      " flatten_4 (Flatten)         (None, 784)               0         \n",
      "                                                                 \n",
      " dense_12 (Dense)            (None, 4)                 3140      \n",
      "                                                                 \n",
      " dense_13 (Dense)            (None, 4)                 20        \n",
      "                                                                 \n",
      " dense_14 (Dense)            (None, 10)                50        \n",
      "                                                                 \n",
      "=================================================================\n",
      "Total params: 3,210\n",
      "Trainable params: 3,210\n",
      "Non-trainable params: 0\n",
      "_________________________________________________________________\n"
     ]
    }
   ],
   "source": [
    "model_11.summary()"
   ]
  },
  {
   "cell_type": "code",
   "execution_count": 13,
   "metadata": {},
   "outputs": [
    {
     "data": {
      "text/plain": [
       "(0, 255)"
      ]
     },
     "execution_count": 13,
     "metadata": {},
     "output_type": "execute_result"
    }
   ],
   "source": [
    "X_train.min(), X_train.max()"
   ]
  },
  {
   "cell_type": "code",
   "execution_count": 39,
   "metadata": {},
   "outputs": [
    {
     "data": {
      "text/plain": [
       "(0.0, 1.0)"
      ]
     },
     "execution_count": 39,
     "metadata": {},
     "output_type": "execute_result"
    }
   ],
   "source": [
    "# Divide train and test images by the maximum value (normalize it)\n",
    "norm_train = X_train / X_train.max()\n",
    "norm_test = X_test / X_train.max()\n",
    "\n",
    "# Check the min and max values of the training data\n",
    "X_train_norm.min(), X_train_norm.max()"
   ]
  },
  {
   "cell_type": "code",
   "execution_count": 40,
   "metadata": {},
   "outputs": [
    {
     "name": "stdout",
     "output_type": "stream",
     "text": [
      "Epoch 1/10\n",
      "563/563 [==============================] - 1s 2ms/step - loss: 0.6372 - accuracy: 0.9006 - val_loss: 0.0351 - val_accuracy: 0.9913\n",
      "Epoch 2/10\n",
      "563/563 [==============================] - 1s 1ms/step - loss: 0.0217 - accuracy: 0.9941 - val_loss: 0.0224 - val_accuracy: 0.9943\n",
      "Epoch 3/10\n",
      "563/563 [==============================] - 1s 1ms/step - loss: 0.0165 - accuracy: 0.9958 - val_loss: 0.0209 - val_accuracy: 0.9940\n",
      "Epoch 4/10\n",
      "563/563 [==============================] - 1s 1ms/step - loss: 0.0132 - accuracy: 0.9963 - val_loss: 0.0176 - val_accuracy: 0.9960\n",
      "Epoch 5/10\n",
      "563/563 [==============================] - 1s 1ms/step - loss: 0.0119 - accuracy: 0.9966 - val_loss: 0.0190 - val_accuracy: 0.9953\n",
      "Epoch 6/10\n",
      "563/563 [==============================] - 1s 1ms/step - loss: 0.0095 - accuracy: 0.9971 - val_loss: 0.0165 - val_accuracy: 0.9957\n",
      "Epoch 7/10\n",
      "563/563 [==============================] - 1s 1ms/step - loss: 0.0103 - accuracy: 0.9966 - val_loss: 0.0161 - val_accuracy: 0.9960\n",
      "Epoch 8/10\n",
      "563/563 [==============================] - 1s 1ms/step - loss: 0.0083 - accuracy: 0.9975 - val_loss: 0.0172 - val_accuracy: 0.9960\n",
      "Epoch 9/10\n",
      "563/563 [==============================] - 1s 1ms/step - loss: 0.0079 - accuracy: 0.9972 - val_loss: 0.0122 - val_accuracy: 0.9960\n",
      "Epoch 10/10\n",
      "563/563 [==============================] - 1s 2ms/step - loss: 0.0070 - accuracy: 0.9978 - val_loss: 0.0132 - val_accuracy: 0.9967\n"
     ]
    }
   ],
   "source": [
    "#NIRMILIZED DATA\n",
    "# Set random seed\n",
    "tf.random.set_seed(42)\n",
    "\n",
    "# Create the model\n",
    "model_12 = tf.keras.Sequential([\n",
    "  tf.keras.layers.Flatten(input_shape=(28, 28)), # input layer (we had to reshape 28x28 to 784)\n",
    "  tf.keras.layers.Dense(4, activation=\"relu\"),\n",
    "  tf.keras.layers.Dense(4, activation=\"relu\"),\n",
    "  tf.keras.layers.Dense(10, activation=\"softmax\") # output shape is 10, activation is softmax\n",
    "])\n",
    "\n",
    "# Compile the model\n",
    "model_12.compile(loss=tf.keras.losses.SparseCategoricalCrossentropy(),\n",
    "                 optimizer=tf.keras.optimizers.Adam(),\n",
    "                 metrics=[\"accuracy\"])\n",
    "\n",
    "# Fit the model (to the normalized data)\n",
    "norm_history = model_12.fit(norm_train,\n",
    "                            y_train,\n",
    "                            epochs=10,\n",
    "                            validation_data=(norm_test, y_test))"
   ]
  },
  {
   "cell_type": "code",
   "execution_count": 41,
   "metadata": {},
   "outputs": [
    {
     "data": {
      "image/png": "[encoded data removed]",
      "text/plain": [
       "<Figure size 432x288 with 1 Axes>"
      ]
     },
     "metadata": {
      "needs_background": "light"
     },
     "output_type": "display_data"
    },
    {
     "data": {
      "image/png": "[encoded data removed]",
      "text/plain": [
       "<Figure size 432x288 with 1 Axes>"
      ]
     },
     "metadata": {
      "needs_background": "light"
     },
     "output_type": "display_data"
    }
   ],
   "source": [
    "import pandas as pd\n",
    "# Plot non-normalized data loss curves\n",
    "pd.DataFrame(non_norm_history.history).plot(title=\"Non-normalized Data\")\n",
    "# Plot normalized data loss curves\n",
    "pd.DataFrame(norm_history.history).plot(title=\"Normalized data\");"
   ]
  },
  {
   "cell_type": "code",
   "execution_count": 42,
   "metadata": {},
   "outputs": [
    {
     "name": "stdout",
     "output_type": "stream",
     "text": [
      "Epoch 1/20\n",
      "563/563 [==============================] - 1s 2ms/step - loss: 0.6372 - accuracy: 0.9006 - val_loss: 0.0351 - val_accuracy: 0.9913 - lr: 0.0010\n",
      "Epoch 2/20\n",
      "563/563 [==============================] - 1s 2ms/step - loss: 0.0217 - accuracy: 0.9939 - val_loss: 0.0220 - val_accuracy: 0.9940 - lr: 0.0011\n",
      "Epoch 3/20\n",
      "563/563 [==============================] - 1s 2ms/step - loss: 0.0166 - accuracy: 0.9957 - val_loss: 0.0315 - val_accuracy: 0.9923 - lr: 0.0013\n",
      "Epoch 4/20\n",
      "563/563 [==============================] - 1s 1ms/step - loss: 0.0137 - accuracy: 0.9959 - val_loss: 0.0144 - val_accuracy: 0.9957 - lr: 0.0014\n",
      "Epoch 5/20\n",
      "563/563 [==============================] - 1s 1ms/step - loss: 0.0134 - accuracy: 0.9958 - val_loss: 0.0187 - val_accuracy: 0.9960 - lr: 0.0016\n",
      "Epoch 6/20\n",
      "563/563 [==============================] - 1s 1ms/step - loss: 0.0098 - accuracy: 0.9967 - val_loss: 0.0183 - val_accuracy: 0.9953 - lr: 0.0018\n",
      "Epoch 7/20\n",
      "563/563 [==============================] - 1s 2ms/step - loss: 0.0111 - accuracy: 0.9963 - val_loss: 0.0150 - val_accuracy: 0.9957 - lr: 0.0020\n",
      "Epoch 8/20\n",
      "563/563 [==============================] - 1s 1ms/step - loss: 0.0104 - accuracy: 0.9970 - val_loss: 0.0181 - val_accuracy: 0.9960 - lr: 0.0022\n",
      "Epoch 9/20\n",
      "563/563 [==============================] - 1s 2ms/step - loss: 0.0116 - accuracy: 0.9966 - val_loss: 0.0218 - val_accuracy: 0.9930 - lr: 0.0025\n",
      "Epoch 10/20\n",
      "563/563 [==============================] - 1s 2ms/step - loss: 0.0095 - accuracy: 0.9969 - val_loss: 0.0287 - val_accuracy: 0.9937 - lr: 0.0028\n",
      "Epoch 11/20\n",
      "563/563 [==============================] - 1s 1ms/step - loss: 0.0129 - accuracy: 0.9959 - val_loss: 0.0161 - val_accuracy: 0.9953 - lr: 0.0032\n",
      "Epoch 12/20\n",
      "563/563 [==============================] - 1s 1ms/step - loss: 0.0093 - accuracy: 0.9971 - val_loss: 0.0148 - val_accuracy: 0.9963 - lr: 0.0035\n",
      "Epoch 13/20\n",
      "563/563 [==============================] - 1s 2ms/step - loss: 0.0092 - accuracy: 0.9968 - val_loss: 0.0150 - val_accuracy: 0.9963 - lr: 0.0040\n",
      "Epoch 14/20\n",
      "563/563 [==============================] - 1s 2ms/step - loss: 0.0106 - accuracy: 0.9965 - val_loss: 0.0256 - val_accuracy: 0.9940 - lr: 0.0045\n",
      "Epoch 15/20\n",
      "563/563 [==============================] - 1s 2ms/step - loss: 0.0087 - accuracy: 0.9970 - val_loss: 0.0172 - val_accuracy: 0.9960 - lr: 0.0050\n",
      "Epoch 16/20\n",
      "563/563 [==============================] - 1s 1ms/step - loss: 0.0092 - accuracy: 0.9974 - val_loss: 0.0163 - val_accuracy: 0.9953 - lr: 0.0056\n",
      "Epoch 17/20\n",
      "563/563 [==============================] - 1s 1ms/step - loss: 0.0104 - accuracy: 0.9966 - val_loss: 0.0267 - val_accuracy: 0.9937 - lr: 0.0063\n",
      "Epoch 18/20\n",
      "563/563 [==============================] - 1s 2ms/step - loss: 0.0108 - accuracy: 0.9969 - val_loss: 0.0229 - val_accuracy: 0.9947 - lr: 0.0071\n",
      "Epoch 19/20\n",
      "563/563 [==============================] - 1s 2ms/step - loss: 0.0083 - accuracy: 0.9973 - val_loss: 0.0164 - val_accuracy: 0.9957 - lr: 0.0079\n",
      "Epoch 20/20\n",
      "563/563 [==============================] - 1s 2ms/step - loss: 0.0106 - accuracy: 0.9967 - val_loss: 0.0172 - val_accuracy: 0.9963 - lr: 0.0089\n"
     ]
    }
   ],
   "source": [
    "# Set random seed\n",
    "tf.random.set_seed(42)\n",
    "\n",
    "# Create the model\n",
    "model_13 = tf.keras.Sequential([\n",
    "  tf.keras.layers.Flatten(input_shape=(28, 28)), # input layer (we had to reshape 28x28 to 784)\n",
    "  tf.keras.layers.Dense(4, activation=\"relu\"),\n",
    "  tf.keras.layers.Dense(4, activation=\"relu\"),\n",
    "  tf.keras.layers.Dense(10, activation=\"softmax\") # output shape is 10, activation is softmax\n",
    "])\n",
    "\n",
    "# Compile the model\n",
    "model_13.compile(loss=tf.keras.losses.SparseCategoricalCrossentropy(),\n",
    "                 optimizer=tf.keras.optimizers.Adam(),\n",
    "                 metrics=[\"accuracy\"])\n",
    "\n",
    "# Create the learning rate callback\n",
    "lr_scheduler = tf.keras.callbacks.LearningRateScheduler(lambda epoch: 1e-3 * 10**(epoch/20))\n",
    "\n",
    "# Fit the model\n",
    "find_lr_history = model_13.fit(norm_train,\n",
    "                               y_train,\n",
    "                               epochs=20, # model already doing pretty good with current LR, probably don't need 100 epochs\n",
    "                               validation_data=(norm_test, y_test),\n",
    "                               callbacks=[lr_scheduler])"
   ]
  },
  {
   "cell_type": "code",
   "execution_count": 43,
   "metadata": {},
   "outputs": [
    {
     "data": {
      "image/png": "[encoded data removed]",
      "text/plain": [
       "<Figure size 432x288 with 1 Axes>"
      ]
     },
     "metadata": {
      "needs_background": "light"
     },
     "output_type": "display_data"
    }
   ],
   "source": [
    "lrs = 1e-3 * (10**(np.arange(20)/10))\n",
    "plt.semilogx(lrs, find_lr_history.history[\"loss\"]) # want the x-axis to be log-scale\n",
    "plt.xlabel(\"Learning rate\")\n",
    "plt.ylabel(\"Loss\")\n",
    "plt.title(\"The best learning rate\");"
   ]
  },
  {
   "cell_type": "code",
   "execution_count": 44,
   "metadata": {},
   "outputs": [],
   "source": [
    "find_lr_history_df = pd.DataFrame(find_lr_history.history)\n",
    "optimal_lr = find_lr_history_df.loc[find_lr_history_df['loss'].idxmin()]['lr']"
   ]
  },
  {
   "cell_type": "code",
   "execution_count": 45,
   "metadata": {},
   "outputs": [
    {
     "name": "stdout",
     "output_type": "stream",
     "text": [
      "Epoch 1/15\n",
      "563/563 [==============================] - 1s 2ms/step - loss: 0.1488 - accuracy: 0.9591 - val_loss: 0.0280 - val_accuracy: 0.9937\n",
      "Epoch 2/15\n",
      "563/563 [==============================] - ETA: 0s - loss: 0.0227 - accuracy: 0.99 - 1s 2ms/step - loss: 0.0228 - accuracy: 0.9933 - val_loss: 0.0308 - val_accuracy: 0.9923\n",
      "Epoch 3/15\n",
      "563/563 [==============================] - 1s 2ms/step - loss: 0.0171 - accuracy: 0.9944 - val_loss: 0.0432 - val_accuracy: 0.9890\n",
      "Epoch 4/15\n",
      "563/563 [==============================] - 1s 2ms/step - loss: 0.0163 - accuracy: 0.9954 - val_loss: 0.0169 - val_accuracy: 0.9963\n",
      "Epoch 5/15\n",
      "563/563 [==============================] - 1s 2ms/step - loss: 0.0142 - accuracy: 0.9956 - val_loss: 0.0184 - val_accuracy: 0.9953\n",
      "Epoch 6/15\n",
      "563/563 [==============================] - 1s 2ms/step - loss: 0.0123 - accuracy: 0.9968 - val_loss: 0.0168 - val_accuracy: 0.9957\n",
      "Epoch 7/15\n",
      "563/563 [==============================] - 1s 2ms/step - loss: 0.0191 - accuracy: 0.9952 - val_loss: 0.0148 - val_accuracy: 0.9963\n",
      "Epoch 8/15\n",
      "563/563 [==============================] - 1s 2ms/step - loss: 0.0122 - accuracy: 0.9967 - val_loss: 0.0190 - val_accuracy: 0.9947\n",
      "Epoch 9/15\n",
      "563/563 [==============================] - 1s 2ms/step - loss: 0.0109 - accuracy: 0.9971 - val_loss: 0.0266 - val_accuracy: 0.9923\n",
      "Epoch 10/15\n",
      "563/563 [==============================] - 1s 2ms/step - loss: 0.0100 - accuracy: 0.9971 - val_loss: 0.0128 - val_accuracy: 0.9957\n",
      "Epoch 11/15\n",
      "563/563 [==============================] - 1s 2ms/step - loss: 0.0119 - accuracy: 0.9973 - val_loss: 0.0174 - val_accuracy: 0.9957\n",
      "Epoch 12/15\n",
      "563/563 [==============================] - 1s 2ms/step - loss: 0.0094 - accuracy: 0.9972 - val_loss: 0.0214 - val_accuracy: 0.9947\n",
      "Epoch 13/15\n",
      "563/563 [==============================] - 1s 2ms/step - loss: 0.0101 - accuracy: 0.9973 - val_loss: 0.0147 - val_accuracy: 0.9953\n",
      "Epoch 14/15\n",
      "563/563 [==============================] - 1s 2ms/step - loss: 0.0080 - accuracy: 0.9971 - val_loss: 0.0196 - val_accuracy: 0.9963\n",
      "Epoch 15/15\n",
      "563/563 [==============================] - 1s 2ms/step - loss: 0.0063 - accuracy: 0.9978 - val_loss: 0.0296 - val_accuracy: 0.9957\n"
     ]
    }
   ],
   "source": [
    "# Optimal model\n",
    "model_opt = tf.keras.Sequential([\n",
    "  tf.keras.layers.Flatten(input_shape=(28, 28)), # input layer (we had to reshape 28x28 to 784)\n",
    "  tf.keras.layers.Dense(6, activation=\"relu\"),\n",
    "  tf.keras.layers.Dense(12, activation=\"relu\"),\n",
    "  tf.keras.layers.Dense(10, activation=\"softmax\") # output shape is 10, activation is softmax\n",
    "])\n",
    "\n",
    "# Compile the model\n",
    "model_opt.compile(optimizer=tf.keras.optimizers.Adam(learning_rate=optimal_lr),\n",
    "                  loss=tf.keras.losses.SparseCategoricalCrossentropy(), \n",
    "                  metrics=['accuracy'])\n",
    "\n",
    "# Fit the model\n",
    "history = model_opt.fit(norm_train,\n",
    "                        y_train,\n",
    "                        epochs=15,\n",
    "                        validation_data=(norm_test, y_test))"
   ]
  },
  {
   "cell_type": "code",
   "execution_count": 46,
   "metadata": {},
   "outputs": [
    {
     "data": {
      "image/png": "[encoded data removed]",
      "text/plain": [
       "<Figure size 432x288 with 1 Axes>"
      ]
     },
     "metadata": {
      "needs_background": "light"
     },
     "output_type": "display_data"
    }
   ],
   "source": [
    "pd.DataFrame(history.history).plot(title=\"The best parameters for the model\")\n",
    "y_pred = model_opt.predict(X_test_norm)"
   ]
  },
  {
   "cell_type": "code",
   "execution_count": 47,
   "metadata": {},
   "outputs": [
    {
     "data": {
      "text/plain": [
       "array([[ 988,   12,    0],\n",
       "       [   0,  999,    1],\n",
       "       [   0,    0, 1000]], dtype=int64)"
      ]
     },
     "execution_count": 47,
     "metadata": {},
     "output_type": "execute_result"
    }
   ],
   "source": [
    "from sklearn.metrics import confusion_matrix\n",
    "\n",
    "y_pred_res = []\n",
    "for elem in y_pred:\n",
    "    y_pred_res.append(elem.argmax())\n",
    "    \n",
    "confusion_matrix(y_test, y_pred_res)"
   ]
  },
  {
   "cell_type": "code",
   "execution_count": null,
   "metadata": {},
   "outputs": [],
   "source": []
  },
  {
   "cell_type": "code",
   "execution_count": null,
   "metadata": {},
   "outputs": [],
   "source": []
  }
 ],
 "metadata": {
  "kernelspec": {
   "display_name": "Python 3",
   "language": "python",
   "name": "python3"
  },
  "language_info": {
   "codemirror_mode": {
    "name": "ipython",
    "version": 3
   },
   "file_extension": ".py",
   "mimetype": "text/x-python",
   "name": "python",
   "nbconvert_exporter": "python",
   "pygments_lexer": "ipython3",
   "version": "3.7.4"
  }
 },
 "nbformat": 4,
 "nbformat_minor": 5
}
